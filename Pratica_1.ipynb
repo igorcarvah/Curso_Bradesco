{
 "cells": [
  {
   "cell_type": "markdown",
   "id": "01f6aff3-526f-4243-8d0c-6c9e2c8c45c6",
   "metadata": {},
   "source": [
    "Como já vimos, caso a condição seja verdadeira, será executada a instrução contida entre o comando **if**."
   ]
  },
  {
   "cell_type": "code",
   "execution_count": 2,
   "id": "09619d77-6703-453a-901c-471acc28c3b5",
   "metadata": {},
   "outputs": [
    {
     "name": "stdin",
     "output_type": "stream",
     "text": [
      "informe um valor para variável A:  54\n",
      " informe um valor para a variável B:  25\n"
     ]
    },
    {
     "name": "stdout",
     "output_type": "stream",
     "text": [
      " O valor da variável A agora é:  25\n",
      "O valor da variável B agora é:  54\n"
     ]
    }
   ],
   "source": [
    "A = input ('informe um valor para variável A: ')\n",
    "B = input (' informe um valor para a variável B: ')\n",
    "\n",
    "\n",
    "if (A>B):\n",
    "    aux=A;\n",
    "    A=B;\n",
    "    B=aux;\n",
    "print(' O valor da variável A agora é: ', A);\n",
    "print ('O valor da variável B agora é: ', B);"
   ]
  },
  {
   "cell_type": "markdown",
   "id": "023ac561-e78c-491f-8b86-dc53db403ef9",
   "metadata": {},
   "source": [
    "# else\n",
    "Neste caso, utilizaremos o comando else, que significa **“se não”**.\n",
    "\n",
    "Assim, se a condição for falsa, serão executados os comandos que estiverem posicionados logo após a instrução **else**.\n",
    "\n",
    "Veja o exemplo abaixo:"
   ]
  },
  {
   "cell_type": "code",
   "execution_count": 3,
   "id": "7b87cf66-130c-44a4-b5da-2ee979724d42",
   "metadata": {},
   "outputs": [
    {
     "name": "stdin",
     "output_type": "stream",
     "text": [
      "Digite a idade da pessoa:  21\n"
     ]
    },
    {
     "name": "stdout",
     "output_type": "stream",
     "text": [
      "Maior Idade\n"
     ]
    }
   ],
   "source": [
    "idade = int(input('Digite a idade da pessoa: '))\n",
    "if idade >18:\n",
    "    print ('Maior Idade')\n",
    "else:\n",
    "    print('Menor idade')"
   ]
  },
  {
   "cell_type": "markdown",
   "id": "a2c78c5e-4de7-4184-9d34-9d177f74f6ec",
   "metadata": {},
   "source": [
    "#Para melhor compreensão da estrutura de decisão composta, vamos realizar o cálculo de média de notas.\n",
    "\n",
    "Crie uma classe chamada **Media**."
   ]
  },
  {
   "cell_type": "code",
   "execution_count": 6,
   "id": "8c763c92-ffca-4da4-b20b-69fe188393e7",
   "metadata": {},
   "outputs": [
    {
     "name": "stdin",
     "output_type": "stream",
     "text": [
      "Informe a primeira nota:  7\n",
      "Informe a segunda nota:  9\n"
     ]
    },
    {
     "name": "stdout",
     "output_type": "stream",
     "text": [
      " A Média: 8 - Aprovado\n"
     ]
    }
   ],
   "source": [
    "notaA=float(input('Informe a primeira nota: '))\n",
    "notaB=float(input('Informe a segunda nota: '))\n",
    "\n",
    "#calcular media\n",
    "mediafinal =  (notaA + notaB) / 2\n",
    "\n",
    "#verificação\n",
    "\n",
    "if mediafinal >7.0:\n",
    "    print (' A Média: %1.f - Aprovado' % mediafinal)\n",
    "else:\n",
    "    print ('A Média: %1.f - Reprovado' % mediafinal)\n",
    "    "
   ]
  },
  {
   "cell_type": "markdown",
   "id": "2fdb59f5-c292-43ba-86f5-1e328bd41d05",
   "metadata": {},
   "source": [
    "# elif\n",
    "\n",
    "Adicionalmente, se existir mais de uma condição alternativa que precise ser verificada, utilizamos a condição **elif**, pois ela avalia as expressões intermediárias antes do comando **else**."
   ]
  },
  {
   "cell_type": "code",
   "execution_count": 8,
   "id": "10fde902-5c2a-4259-ae65-4098fa4d5aa2",
   "metadata": {},
   "outputs": [
    {
     "name": "stdin",
     "output_type": "stream",
     "text": [
      "Digite a idade da pessoa:  17\n"
     ]
    },
    {
     "name": "stdout",
     "output_type": "stream",
     "text": [
      "Infanto juvenil\n"
     ]
    }
   ],
   "source": [
    "idade = int(input('Digite a idade da pessoa: '))\n",
    "if idade >18:\n",
    "    print ('Maior Idade')\n",
    "    \n",
    "elif idade >16:\n",
    "    print('Infanto juvenil')\n",
    "else:\n",
    "    print('Menor idade')"
   ]
  },
  {
   "cell_type": "markdown",
   "id": "3efdf906-241b-4454-bf8c-a4149dd922d9",
   "metadata": {},
   "source": [
    "# Estrutura de repetição\n",
    "\n",
    "As estruturas de repetição, também conhecidas como laços de repetição, permitem que um conjunto de instruções seja executado, até que uma determinada condição seja verdadeira.\n",
    "\n",
    "As estruturas de repetição em Python são:\n",
    "\n",
    "**FOR**    ///    **WHILE**"
   ]
  },
  {
   "cell_type": "code",
   "execution_count": 9,
   "id": "e27a06b3-e87e-4a96-ad67-3dac3a06649a",
   "metadata": {},
   "outputs": [
    {
     "name": "stdout",
     "output_type": "stream",
     "text": [
      "0\n",
      "1\n",
      "2\n",
      "3\n",
      "4\n",
      "5\n",
      "6\n",
      "7\n",
      "8\n",
      "9\n"
     ]
    }
   ],
   "source": [
    "for n in range (10):\n",
    "    print(n)"
   ]
  },
  {
   "cell_type": "markdown",
   "id": "7ab9a403-974e-4c92-a5d5-25ab5dbc039c",
   "metadata": {},
   "source": [
    "No exemplo que acabamos de ver, a variável n é inicialmente ajustada para 0 (inicialização com valor padrão).\n",
    "\n",
    "Uma vez que **n** é menor do que **10** (condição), o comando **print** é executado.\n",
    "\n",
    "Essa condição é adicionada com o comando **range**.\n",
    "\n",
    "A variável **n** é incrementada em **1** (incremento padrão) e é testado se o valor de **n** ainda é menor do que 10.\n",
    "\n",
    "O processo se repete até que o valor de n fique maior ou igual a **10**.\n",
    "\n",
    "Neste instante, o laço termina e o programa segue a execução das instruções do bloco de repetição."
   ]
  },
  {
   "cell_type": "code",
   "execution_count": 11,
   "id": "0e66c966-4314-4c3d-ac9f-b41743c1a1ea",
   "metadata": {},
   "outputs": [
    {
     "name": "stdout",
     "output_type": "stream",
     "text": [
      "5\n",
      "6\n",
      "7\n",
      "8\n",
      "9\n",
      "10\n",
      "11\n",
      "12\n",
      "13\n",
      "14\n",
      "15\n"
     ]
    }
   ],
   "source": [
    "for n in range (5, 16):\n",
    "    print(n)\n",
    "\n",
    "#Neste caso, os valores apresentados na tela terão como mínimo, o número 5 e, no máximo, 15."
   ]
  },
  {
   "cell_type": "markdown",
   "id": "d2a833cf-9d9e-4c24-b0b0-04ab06caa8ca",
   "metadata": {},
   "source": [
    "Também é possível utilizar o decremento no contador, dentro do comando **range**."
   ]
  },
  {
   "cell_type": "code",
   "execution_count": 12,
   "id": "e108fd44-29dc-4002-8639-3186b2b68c67",
   "metadata": {},
   "outputs": [
    {
     "name": "stdout",
     "output_type": "stream",
     "text": [
      "10\n",
      "9\n",
      "8\n",
      "7\n",
      "6\n",
      "5\n",
      "4\n",
      "3\n",
      "2\n",
      "1\n"
     ]
    }
   ],
   "source": [
    "for n in range (10, 0, -1):\n",
    "    print (n)"
   ]
  },
  {
   "cell_type": "markdown",
   "id": "ca4d1c87-fe15-46db-8090-e35e946fd482",
   "metadata": {},
   "source": [
    "# Estrutura While (enquanto)"
   ]
  },
  {
   "cell_type": "markdown",
   "id": "6fed9e48-09fd-4b13-b136-8cc5e40523a2",
   "metadata": {},
   "source": [
    "A estrutura **While (enquanto)**, executa um determinado conjunto de instruções, enquanto a condição verificada no início permanecer verdadeira.\n",
    "\n",
    "Diferente da estrutura **For (para)**, não é necessário determinar o número de vezes que a condição será executada.\n",
    "\n",
    "No momento em que a condição for falsa, o processamento da rotina é desviado para fora do laço de repetição.\n",
    "\n",
    "Caso a condição seja falsa, logo no início do laço de repetição, as instruções contidas nele são ignoradas."
   ]
  },
  {
   "cell_type": "code",
   "execution_count": 13,
   "id": "cc3abafa-bdfa-4c71-972b-97f096cc1022",
   "metadata": {},
   "outputs": [
    {
     "name": "stdout",
     "output_type": "stream",
     "text": [
      "1\n",
      "2\n",
      "3\n",
      "4\n",
      "5\n",
      "6\n",
      "7\n",
      "8\n",
      "9\n",
      "10\n",
      "11\n",
      "12\n",
      "13\n",
      "14\n",
      "15\n"
     ]
    }
   ],
   "source": [
    "x = 1;\n",
    "while x<=15:\n",
    "    print (x);\n",
    "    x=x+1"
   ]
  },
  {
   "cell_type": "markdown",
   "id": "46ca76b4-2cfb-40b9-8890-d285ab438e3c",
   "metadata": {},
   "source": [
    "# Na Prática"
   ]
  },
  {
   "cell_type": "code",
   "execution_count": 16,
   "id": "63fd516b-e467-4286-9d24-67fa4d5b40c0",
   "metadata": {},
   "outputs": [
    {
     "name": "stdin",
     "output_type": "stream",
     "text": [
      "Digite um valor:  25.6\n",
      "Digite um valor 52.5\n",
      "Digite um valor 33.9\n",
      "Digite um valor -1\n"
     ]
    },
    {
     "name": "stdout",
     "output_type": "stream",
     "text": [
      "\n",
      " Total da soma:  112.0\n",
      "\n",
      " Quantidade de valores digitados:  3\n",
      "\n",
      " Média dos valores:  37.333333333333336\n"
     ]
    }
   ],
   "source": [
    "qtd=0\n",
    "soma=0\n",
    "media=0\n",
    "valor =  float(input('Digite um valor: '))\n",
    "\n",
    "while (valor > 0.0 ):\n",
    "    soma = soma + valor\n",
    "    qtd = qtd + 1\n",
    "#Entrada de Valores\n",
    "    valor= float(input('Digite um valor'))\n",
    "\n",
    "#Caso digite um valor  negativo o laço encerra\n",
    "media = soma / qtd\n",
    "print ('\\n Total da soma: ', soma)\n",
    "print ('\\n Quantidade de valores digitados: ', qtd)\n",
    "print ('\\n Média dos valores: ', media)\n",
    " \n"
   ]
  },
  {
   "cell_type": "code",
   "execution_count": null,
   "id": "5b02018b-1db6-4943-9dd4-e97af1cccbcc",
   "metadata": {},
   "outputs": [],
   "source": []
  }
 ],
 "metadata": {
  "kernelspec": {
   "display_name": "Python [conda env:base] *",
   "language": "python",
   "name": "conda-base-py"
  },
  "language_info": {
   "codemirror_mode": {
    "name": "ipython",
    "version": 3
   },
   "file_extension": ".py",
   "mimetype": "text/x-python",
   "name": "python",
   "nbconvert_exporter": "python",
   "pygments_lexer": "ipython3",
   "version": "3.12.3"
  }
 },
 "nbformat": 4,
 "nbformat_minor": 5
}
