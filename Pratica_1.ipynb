{
 "cells": [
  {
   "cell_type": "markdown",
   "id": "01f6aff3-526f-4243-8d0c-6c9e2c8c45c6",
   "metadata": {},
   "source": [
    "Como já vimos, caso a condição seja verdadeira, será executada a instrução contida entre o comando **if**."
   ]
  },
  {
   "cell_type": "code",
   "execution_count": 2,
   "id": "09619d77-6703-453a-901c-471acc28c3b5",
   "metadata": {},
   "outputs": [
    {
     "name": "stdin",
     "output_type": "stream",
     "text": [
      "informe um valor para variável A:  54\n",
      " informe um valor para a variável B:  25\n"
     ]
    },
    {
     "name": "stdout",
     "output_type": "stream",
     "text": [
      " O valor da variável A agora é:  25\n",
      "O valor da variável B agora é:  54\n"
     ]
    }
   ],
   "source": [
    "A = input ('informe um valor para variável A: ')\n",
    "B = input (' informe um valor para a variável B: ')\n",
    "\n",
    "\n",
    "if (A>B):\n",
    "    aux=A;\n",
    "    A=B;\n",
    "    B=aux;\n",
    "print(' O valor da variável A agora é: ', A);\n",
    "print ('O valor da variável B agora é: ', B);"
   ]
  },
  {
   "cell_type": "markdown",
   "id": "023ac561-e78c-491f-8b86-dc53db403ef9",
   "metadata": {},
   "source": [
    "# else\n",
    "Neste caso, utilizaremos o comando else, que significa **“se não”**.\n",
    "\n",
    "Assim, se a condição for falsa, serão executados os comandos que estiverem posicionados logo após a instrução **else**.\n",
    "\n",
    "Veja o exemplo abaixo:"
   ]
  },
  {
   "cell_type": "code",
   "execution_count": 3,
   "id": "7b87cf66-130c-44a4-b5da-2ee979724d42",
   "metadata": {},
   "outputs": [
    {
     "name": "stdin",
     "output_type": "stream",
     "text": [
      "Digite a idade da pessoa:  21\n"
     ]
    },
    {
     "name": "stdout",
     "output_type": "stream",
     "text": [
      "Maior Idade\n"
     ]
    }
   ],
   "source": [
    "idade = int(input('Digite a idade da pessoa: '))\n",
    "if idade >18:\n",
    "    print ('Maior Idade')\n",
    "else:\n",
    "    print('Menor idade')"
   ]
  },
  {
   "cell_type": "markdown",
   "id": "a2c78c5e-4de7-4184-9d34-9d177f74f6ec",
   "metadata": {},
   "source": [
    "#Para melhor compreensão da estrutura de decisão composta, vamos realizar o cálculo de média de notas.\n",
    "\n",
    "Crie uma classe chamada **Media**."
   ]
  },
  {
   "cell_type": "code",
   "execution_count": 6,
   "id": "8c763c92-ffca-4da4-b20b-69fe188393e7",
   "metadata": {},
   "outputs": [
    {
     "name": "stdin",
     "output_type": "stream",
     "text": [
      "Informe a primeira nota:  7\n",
      "Informe a segunda nota:  9\n"
     ]
    },
    {
     "name": "stdout",
     "output_type": "stream",
     "text": [
      " A Média: 8 - Aprovado\n"
     ]
    }
   ],
   "source": [
    "notaA=float(input('Informe a primeira nota: '))\n",
    "notaB=float(input('Informe a segunda nota: '))\n",
    "\n",
    "#calcular media\n",
    "mediafinal =  (notaA + notaB) / 2\n",
    "\n",
    "#verificação\n",
    "\n",
    "if mediafinal >7.0:\n",
    "    print (' A Média: %1.f - Aprovado' % mediafinal)\n",
    "else:\n",
    "    print ('A Média: %1.f - Reprovado' % mediafinal)\n",
    "    "
   ]
  },
  {
   "cell_type": "markdown",
   "id": "2fdb59f5-c292-43ba-86f5-1e328bd41d05",
   "metadata": {},
   "source": [
    "# elif\n",
    "\n",
    "Adicionalmente, se existir mais de uma condição alternativa que precise ser verificada, utilizamos a condição **elif**, pois ela avalia as expressões intermediárias antes do comando **else**."
   ]
  },
  {
   "cell_type": "code",
   "execution_count": 8,
   "id": "10fde902-5c2a-4259-ae65-4098fa4d5aa2",
   "metadata": {},
   "outputs": [
    {
     "name": "stdin",
     "output_type": "stream",
     "text": [
      "Digite a idade da pessoa:  17\n"
     ]
    },
    {
     "name": "stdout",
     "output_type": "stream",
     "text": [
      "Infanto juvenil\n"
     ]
    }
   ],
   "source": [
    "idade = int(input('Digite a idade da pessoa: '))\n",
    "if idade >18:\n",
    "    print ('Maior Idade')\n",
    "    \n",
    "elif idade >16:\n",
    "    print('Infanto juvenil')\n",
    "else:\n",
    "    print('Menor idade')"
   ]
  },
  {
   "cell_type": "markdown",
   "id": "3efdf906-241b-4454-bf8c-a4149dd922d9",
   "metadata": {},
   "source": [
    "# Estrutura de repetição\n",
    "\n",
    "As estruturas de repetição, também conhecidas como laços de repetição, permitem que um conjunto de instruções seja executado, até que uma determinada condição seja verdadeira.\n",
    "\n",
    "As estruturas de repetição em Python são:\n",
    "\n",
    "**FOR**    ///    **WHILE**"
   ]
  },
  {
   "cell_type": "code",
   "execution_count": 9,
   "id": "e27a06b3-e87e-4a96-ad67-3dac3a06649a",
   "metadata": {},
   "outputs": [
    {
     "name": "stdout",
     "output_type": "stream",
     "text": [
      "0\n",
      "1\n",
      "2\n",
      "3\n",
      "4\n",
      "5\n",
      "6\n",
      "7\n",
      "8\n",
      "9\n"
     ]
    }
   ],
   "source": [
    "for n in range (10):\n",
    "    print(n)"
   ]
  },
  {
   "cell_type": "markdown",
   "id": "7ab9a403-974e-4c92-a5d5-25ab5dbc039c",
   "metadata": {},
   "source": [
    "No exemplo que acabamos de ver, a variável n é inicialmente ajustada para 0 (inicialização com valor padrão).\n",
    "\n",
    "Uma vez que **n** é menor do que **10** (condição), o comando **print** é executado.\n",
    "\n",
    "Essa condição é adicionada com o comando **range**.\n",
    "\n",
    "A variável **n** é incrementada em **1** (incremento padrão) e é testado se o valor de **n** ainda é menor do que 10.\n",
    "\n",
    "O processo se repete até que o valor de n fique maior ou igual a **10**.\n",
    "\n",
    "Neste instante, o laço termina e o programa segue a execução das instruções do bloco de repetição."
   ]
  },
  {
   "cell_type": "code",
   "execution_count": 11,
   "id": "0e66c966-4314-4c3d-ac9f-b41743c1a1ea",
   "metadata": {},
   "outputs": [
    {
     "name": "stdout",
     "output_type": "stream",
     "text": [
      "5\n",
      "6\n",
      "7\n",
      "8\n",
      "9\n",
      "10\n",
      "11\n",
      "12\n",
      "13\n",
      "14\n",
      "15\n"
     ]
    }
   ],
   "source": [
    "for n in range (5, 16):\n",
    "    print(n)\n",
    "\n",
    "#Neste caso, os valores apresentados na tela terão como mínimo, o número 5 e, no máximo, 15."
   ]
  },
  {
   "cell_type": "markdown",
   "id": "d2a833cf-9d9e-4c24-b0b0-04ab06caa8ca",
   "metadata": {},
   "source": [
    "Também é possível utilizar o decremento no contador, dentro do comando **range**."
   ]
  },
  {
   "cell_type": "code",
   "execution_count": 12,
   "id": "e108fd44-29dc-4002-8639-3186b2b68c67",
   "metadata": {},
   "outputs": [
    {
     "name": "stdout",
     "output_type": "stream",
     "text": [
      "10\n",
      "9\n",
      "8\n",
      "7\n",
      "6\n",
      "5\n",
      "4\n",
      "3\n",
      "2\n",
      "1\n"
     ]
    }
   ],
   "source": [
    "for n in range (10, 0, -1):\n",
    "    print (n)"
   ]
  },
  {
   "cell_type": "markdown",
   "id": "ca4d1c87-fe15-46db-8090-e35e946fd482",
   "metadata": {},
   "source": [
    "# Estrutura While (enquanto)"
   ]
  },
  {
   "cell_type": "markdown",
   "id": "6fed9e48-09fd-4b13-b136-8cc5e40523a2",
   "metadata": {},
   "source": [
    "A estrutura **While (enquanto)**, executa um determinado conjunto de instruções, enquanto a condição verificada no início permanecer verdadeira.\n",
    "\n",
    "Diferente da estrutura **For (para)**, não é necessário determinar o número de vezes que a condição será executada.\n",
    "\n",
    "No momento em que a condição for falsa, o processamento da rotina é desviado para fora do laço de repetição.\n",
    "\n",
    "Caso a condição seja falsa, logo no início do laço de repetição, as instruções contidas nele são ignoradas."
   ]
  },
  {
   "cell_type": "code",
   "execution_count": 13,
   "id": "cc3abafa-bdfa-4c71-972b-97f096cc1022",
   "metadata": {},
   "outputs": [
    {
     "name": "stdout",
     "output_type": "stream",
     "text": [
      "1\n",
      "2\n",
      "3\n",
      "4\n",
      "5\n",
      "6\n",
      "7\n",
      "8\n",
      "9\n",
      "10\n",
      "11\n",
      "12\n",
      "13\n",
      "14\n",
      "15\n"
     ]
    }
   ],
   "source": [
    "x = 1;\n",
    "while x<=15:\n",
    "    print (x);\n",
    "    x=x+1"
   ]
  },
  {
   "cell_type": "markdown",
   "id": "46ca76b4-2cfb-40b9-8890-d285ab438e3c",
   "metadata": {},
   "source": [
    "# Na Prática"
   ]
  },
  {
   "cell_type": "code",
   "execution_count": 16,
   "id": "63fd516b-e467-4286-9d24-67fa4d5b40c0",
   "metadata": {},
   "outputs": [
    {
     "name": "stdin",
     "output_type": "stream",
     "text": [
      "Digite um valor:  25.6\n",
      "Digite um valor 52.5\n",
      "Digite um valor 33.9\n",
      "Digite um valor -1\n"
     ]
    },
    {
     "name": "stdout",
     "output_type": "stream",
     "text": [
      "\n",
      " Total da soma:  112.0\n",
      "\n",
      " Quantidade de valores digitados:  3\n",
      "\n",
      " Média dos valores:  37.333333333333336\n"
     ]
    }
   ],
   "source": [
    "qtd=0\n",
    "soma=0\n",
    "media=0\n",
    "valor =  float(input('Digite um valor: '))\n",
    "\n",
    "while (valor > 0.0 ):\n",
    "    soma = soma + valor\n",
    "    qtd = qtd + 1\n",
    "#Entrada de Valores\n",
    "    valor= float(input('Digite um valor'))\n",
    "\n",
    "#Caso digite um valor  negativo o laço encerra\n",
    "media = soma / qtd\n",
    "print ('\\n Total da soma: ', soma)\n",
    "print ('\\n Quantidade de valores digitados: ', qtd)\n",
    "print ('\\n Média dos valores: ', media)\n",
    " \n"
   ]
  },
  {
   "cell_type": "markdown",
   "id": "01f88042-5f5d-4339-a972-45e4ca4a5605",
   "metadata": {},
   "source": [
    "# AVISO\n",
    "\n",
    "## FORMATAÇÃO\n",
    " Este arquivo se encontra convertido,com as quebras de linha para o formato CRLF **(usado no Windows)**. Caso for vizualizar e trabalhar neste arquivo em outro sistemas operacionais lembrese que  o **Linux** e o **Mac**, usam apenas **LF** para quebra de linhas. Se você abrir o arquivo nesses sistemas, as quebras de linhas podem não ser interpretadas corretamente. \n",
    " #### Solução\n",
    " Para evitar isso, você pode configurar o **git** para não converter as quebras de linha automaticamente."
   ]
  },
  {
   "cell_type": "code",
   "execution_count": 5,
   "id": "8e5e2215-69a9-4bcd-af09-269d08555d1b",
   "metadata": {},
   "outputs": [
    {
     "name": "stdin",
     "output_type": "stream",
     "text": [
      "Digite uma nota para o aluno(a):  7\n",
      "Digite uma nota para o aluno(a):  8\n"
     ]
    },
    {
     "name": "stdout",
     "output_type": "stream",
     "text": [
      "Nota1 7.0\n",
      "Nota2 8.0\n",
      "Media:  7.5 Resultad: Aprovado\n"
     ]
    }
   ],
   "source": [
    "def lernotas ():\n",
    "    n=float(input(\"Digite uma nota para o aluno(a): \"))\n",
    "    return n\n",
    "\n",
    "def resultado(n1,n2):\n",
    "    media= (n1+n2)/2\n",
    "    print ('Nota1', n1)\n",
    "    print ('Nota2', n2)\n",
    "    print  ('Media: ', media, 'Resultad: ', end=\"\")\n",
    "    if media>= 7:\n",
    "        print('Aprovado')\n",
    "    else:\n",
    "        print('Reprovado')\n",
    "\n",
    "a = lernotas()\n",
    "b = lernotas()\n",
    "resultado(a,b)"
   ]
  },
  {
   "cell_type": "markdown",
   "id": "07fa53bd-29fc-447b-a931-325055aa2de2",
   "metadata": {},
   "source": [
    "# Prática\n",
    "Utilizando o que aprendi neste exercicio, tive a ideia de calcular minha nota do semestre, para saber a nota de cada prova tendo em vista os **pesos** delas, que sao informadados pela instituição e a **porcentagem** de acerto que é disponibilizado pela faculdade, assim obtendo o resultado final ( Aprovado ou reprovado)\n",
    "    "
   ]
  },
  {
   "cell_type": "code",
   "execution_count": 6,
   "id": "54e4a2e8-c7ec-4a17-ab11-c88407c45529",
   "metadata": {},
   "outputs": [
    {
     "name": "stdin",
     "output_type": "stream",
     "text": [
      "Digite a porcentagem de acerto dessa prova (3 pontos):  50\n"
     ]
    },
    {
     "name": "stdout",
     "output_type": "stream",
     "text": [
      "Você acertou 1.50 pontos nesta questão.\n"
     ]
    },
    {
     "name": "stdin",
     "output_type": "stream",
     "text": [
      "Digite a porcentagem de acerto dessa prova (3 pontos):  67\n"
     ]
    },
    {
     "name": "stdout",
     "output_type": "stream",
     "text": [
      "Você acertou 2.01 pontos nesta questão.\n"
     ]
    },
    {
     "name": "stdin",
     "output_type": "stream",
     "text": [
      "Digite a porcentagem de acerto dessa prova (4 pontos):  100\n"
     ]
    },
    {
     "name": "stdout",
     "output_type": "stream",
     "text": [
      "Você acertou 4.00 pontos nesta questão.\n",
      "\n",
      "Média final: 7.51\n",
      "Resultado: Aprovado ✅ em sua diciplana\n"
     ]
    }
   ],
   "source": [
    "def lernotas(peso):\n",
    "    porcentagem = float(input(f\"Digite a porcentagem de acerto dessa prova ({peso} pontos): \"))\n",
    "    nota_obtida = (porcentagem / 100) * peso  # Calcula a nota baseada na porcentagem\n",
    "    print(f\"Você acertou {nota_obtida:.2f} pontos nesta questão.\")\n",
    "    return nota_obtida\n",
    "\n",
    "def resultado(n1, n2, n3):\n",
    "    total_pesos = 3 + 3 + 4  # Soma dos pesos das questões\n",
    "    media = (n1 + n2 + n3) / total_pesos * 10  # Ajustando para escala de 0 a 10\n",
    "    \n",
    "    print(\"\\nMédia final:\", round(media, 2))  # Exibir a média com 2 casas decimais\n",
    "    print(\"Resultado:\", end=\" \")\n",
    "    if media >= 7:  # Condição de aprovação\n",
    "        print(\"Aprovado ✅ em sua diciplana\")\n",
    "    else:\n",
    "        print(\"Reprovado ❌\")\n",
    "\n",
    "# Coletando as notas ajustadas pela porcentagem de acerto\n",
    "a = lernotas(3)  # Peso da primeira prova é 3\n",
    "b = lernotas(3)  # Peso da segunda prova é 3\n",
    "c = lernotas(4)  # Peso da terceira prova é 4\n",
    "\n",
    "# Chamando a função para calcular o resultado\n",
    "resultado(a, b, c)\n"
   ]
  },
  {
   "cell_type": "markdown",
   "id": "a72fbfd8-2f93-485a-9a7f-4ce9d2b26a3e",
   "metadata": {},
   "source": [
    "# Outros recursos. Práticas de programação utilizando os recursos do Python.\n",
    "### Funções para manipulação de textos.\n",
    "\n",
    "funcões na prática"
   ]
  },
  {
   "cell_type": "code",
   "execution_count": 17,
   "id": "4463adcf-eb47-491f-8662-cce11d5125ac",
   "metadata": {},
   "outputs": [
    {
     "name": "stdout",
     "output_type": "stream",
     "text": [
      "Curso Python \n",
      "Aula prática\n"
     ]
    }
   ],
   "source": [
    "arquivo = open('arqText.txt', 'w')\n",
    "arquivo.write ('Curso Python \\n')\n",
    "arquivo.write ('Aula prática')\n",
    "arquivo.close()\n",
    "\n",
    "#Leitura do arquivo txt ('r')\n",
    "\n",
    "leitura=open('arqtext.txt','r')\n",
    "print (leitura.read())\n",
    "\n",
    "#Feche a leitura\n",
    "leitura.close()\n"
   ]
  },
  {
   "cell_type": "markdown",
   "id": "07791f01-c618-4885-b4b3-17191b8558d1",
   "metadata": {},
   "source": [
    "# Além dos comandos vistos até aqui (w e r), também temos disponíveis outros comandos que podemos utilizar nos parâmetros.\n",
    "\n",
    "### Vamos conhecê-los?\n",
    "**(r)**\tAbre o arquivo somente para leitura.\n",
    "O arquivo deve já existir.\n",
    "\n",
    "**(r+)**\tAbre o arquivo para leitura e escrita. O arquivo deve já existir.\n",
    "A escrita começa a partir da primeira linha e, caso exista algo escrito no arquivo, as linhas serão reescritas, conforme formos escrevendo.\n",
    "\n",
    "**(w)**\tAbre o arquivo somente para escrita, no início do arquivo.\n",
    "Apagará o conteúdo do arquivo se ele já existir. Criará um arquivo novo se não existir.\n",
    "\n",
    "**(w+)**\tAbre o arquivo para escrita e leitura, apagando o conteúdo preexistente.\n",
    "\n",
    "**(a)**\tAbre o arquivo para escrita no final do arquivo.\n",
    "Não apaga o conteúdo preexistente.\n",
    "\n",
    "**(a+)**\tAbre o arquivo para escrita no final do arquivo e leitura."
   ]
  },
  {
   "cell_type": "code",
   "execution_count": null,
   "id": "a3ce9a97-3e8f-43a1-84a4-60615e02eef2",
   "metadata": {},
   "outputs": [],
   "source": []
  }
 ],
 "metadata": {
  "kernelspec": {
   "display_name": "Python [conda env:base] *",
   "language": "python",
   "name": "conda-base-py"
  },
  "language_info": {
   "codemirror_mode": {
    "name": "ipython",
    "version": 3
   },
   "file_extension": ".py",
   "mimetype": "text/x-python",
   "name": "python",
   "nbconvert_exporter": "python",
   "pygments_lexer": "ipython3",
   "version": "3.12.3"
  }
 },
 "nbformat": 4,
 "nbformat_minor": 5
}
